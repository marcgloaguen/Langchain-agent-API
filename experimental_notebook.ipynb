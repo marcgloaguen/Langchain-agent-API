{
 "cells": [
  {
   "cell_type": "code",
   "execution_count": 1,
   "metadata": {},
   "outputs": [
    {
     "data": {
      "text/plain": [
       "True"
      ]
     },
     "execution_count": 1,
     "metadata": {},
     "output_type": "execute_result"
    }
   ],
   "source": [
    "# Load environment variables from the .env file\n",
    "from dotenv import load_dotenv\n",
    "load_dotenv()"
   ]
  },
  {
   "cell_type": "code",
   "execution_count": 2,
   "metadata": {},
   "outputs": [],
   "source": [
    "from langchain_community.llms import Ollama\n",
    "from langchain_openai import OpenAI\n",
    "\n",
    "from langchain.tools import tool\n",
    "from langchain import hub\n",
    "from langchain.prompts import load_prompt\n",
    "\n",
    "from langchain.agents import AgentExecutor, create_react_agent\n",
    "\n",
    "from langchain.chains import APIChain\n",
    "from langchain.chains.api import open_meteo_docs\n"
   ]
  },
  {
   "cell_type": "code",
   "execution_count": 3,
   "metadata": {},
   "outputs": [],
   "source": [
    "# Switch to use openAI\n",
    "llm = OpenAI(temperature=0, verbose=True, model=\"gpt-3.5-turbo-instruct\") # defautl model : \"gpt-3.5-turbo-instruct\"\n",
    "#llm = Ollama(model=\"mistral\")"
   ]
  },
  {
   "cell_type": "code",
   "execution_count": 4,
   "metadata": {},
   "outputs": [],
   "source": [
    "# custom simple tool\n",
    "@tool\n",
    "def square(x: int) -> int:\n",
    "    \"\"\"\n",
    "    squares a number\n",
    "    \"\"\"\n",
    "    return str(int(x)**2)"
   ]
  },
  {
   "cell_type": "code",
   "execution_count": 5,
   "metadata": {},
   "outputs": [
    {
     "name": "stdout",
     "output_type": "stream",
     "text": [
      "square\n",
      "square(x: int) -> int - squares a number\n",
      "{'x': {'title': 'X', 'type': 'integer'}}\n"
     ]
    }
   ],
   "source": [
    "# tool features\n",
    "print(square.name)\n",
    "print(square.description)\n",
    "print(square.args)"
   ]
  },
  {
   "cell_type": "code",
   "execution_count": 6,
   "metadata": {},
   "outputs": [],
   "source": [
    "# pull prompt from the hub and saves it \n",
    "obj = hub.pull(\"hwchase17/react\")\n",
    "obj.save(\"prompt.json\")"
   ]
  },
  {
   "cell_type": "code",
   "execution_count": 7,
   "metadata": {},
   "outputs": [],
   "source": [
    "# inititalize prompt and tools for custom agent\n",
    "prompt = load_prompt('prompt.json')\n",
    "tools = [\n",
    "    square\n",
    "    ]"
   ]
  },
  {
   "cell_type": "code",
   "execution_count": 8,
   "metadata": {},
   "outputs": [
    {
     "name": "stdout",
     "output_type": "stream",
     "text": [
      "Answer the following questions as best you can. You have access to the following tools:\n",
      "\n",
      "{tools}\n",
      "\n",
      "Use the following format:\n",
      "\n",
      "Question: the input question you must answer\n",
      "Thought: you should always think about what to do\n",
      "Action: the action to take, should be one of [{tool_names}]\n",
      "Action Input: the input to the action\n",
      "Observation: the result of the action\n",
      "... (this Thought/Action/Action Input/Observation can repeat N times)\n",
      "Thought: I now know the final answer\n",
      "Final Answer: the final answer to the original input question\n",
      "\n",
      "Begin!\n",
      "\n",
      "Question: {input}\n",
      "Thought:{agent_scratchpad}\n"
     ]
    }
   ],
   "source": [
    "# the prompt template\n",
    "print(prompt.template)"
   ]
  },
  {
   "cell_type": "code",
   "execution_count": 9,
   "metadata": {},
   "outputs": [],
   "source": [
    "agent_custom = create_react_agent(\n",
    "     llm,\n",
    "     tools,\n",
    "    prompt\n",
    "    )\n",
    "\n",
    "agent_executor = AgentExecutor(agent=agent_custom, tools=tools, verbose=True)"
   ]
  },
  {
   "cell_type": "code",
   "execution_count": 10,
   "metadata": {},
   "outputs": [
    {
     "name": "stdout",
     "output_type": "stream",
     "text": [
      "\n",
      "\n",
      "\u001b[1m> Entering new AgentExecutor chain...\u001b[0m\n",
      "\u001b[32;1m\u001b[1;3m I should square the number 5\n",
      "Action: square\n",
      "Action Input: 5\u001b[0m\u001b[36;1m\u001b[1;3m25\u001b[0m\u001b[32;1m\u001b[1;3m25 is the square of 5\n",
      "Final Answer: 25\u001b[0m\n",
      "\n",
      "\u001b[1m> Finished chain.\u001b[0m\n"
     ]
    },
    {
     "data": {
      "text/plain": [
       "{'input': 'What is the square of 5 ', 'output': '25'}"
      ]
     },
     "execution_count": 10,
     "metadata": {},
     "output_type": "execute_result"
    }
   ],
   "source": [
    "agent_executor.invoke({\"input\":\"What is the square of 5 \"})"
   ]
  },
  {
   "cell_type": "code",
   "execution_count": 11,
   "metadata": {},
   "outputs": [
    {
     "name": "stdout",
     "output_type": "stream",
     "text": [
      "\n",
      "\n",
      "\u001b[1m> Entering new APIChain chain...\u001b[0m\n",
      "\u001b[32;1m\u001b[1;3m https://api.open-meteo.com/v1/forecast?latitude=48.1351&longitude=11.5820&hourly=temperature_2m&current_weather=true&temperature_unit=fahrenheit&timezone=auto\u001b[0m\n",
      "\u001b[33;1m\u001b[1;3m{\"latitude\":48.14,\"longitude\":11.58,\"generationtime_ms\":0.06604194641113281,\"utc_offset_seconds\":3600,\"timezone\":\"Europe/Berlin\",\"timezone_abbreviation\":\"CET\",\"elevation\":521.0,\"current_weather_units\":{\"time\":\"iso8601\",\"interval\":\"seconds\",\"temperature\":\"°F\",\"windspeed\":\"km/h\",\"winddirection\":\"°\",\"is_day\":\"\",\"weathercode\":\"wmo code\"},\"current_weather\":{\"time\":\"2024-02-28T16:45\",\"interval\":900,\"temperature\":43.5,\"windspeed\":4.3,\"winddirection\":24,\"is_day\":1,\"weathercode\":3},\"hourly_units\":{\"time\":\"iso8601\",\"temperature_2m\":\"°F\"},\"hourly\":{\"time\":[\"2024-02-28T00:00\",\"2024-02-28T01:00\",\"2024-02-28T02:00\",\"2024-02-28T03:00\",\"2024-02-28T04:00\",\"2024-02-28T05:00\",\"2024-02-28T06:00\",\"2024-02-28T07:00\",\"2024-02-28T08:00\",\"2024-02-28T09:00\",\"2024-02-28T10:00\",\"2024-02-28T11:00\",\"2024-02-28T12:00\",\"2024-02-28T13:00\",\"2024-02-28T14:00\",\"2024-02-28T15:00\",\"2024-02-28T16:00\",\"2024-02-28T17:00\",\"2024-02-28T18:00\",\"2024-02-28T19:00\",\"2024-02-28T20:00\",\"2024-02-28T21:00\",\"2024-02-28T22:00\",\"2024-02-28T23:00\",\"2024-02-29T00:00\",\"2024-02-29T01:00\",\"2024-02-29T02:00\",\"2024-02-29T03:00\",\"2024-02-29T04:00\",\"2024-02-29T05:00\",\"2024-02-29T06:00\",\"2024-02-29T07:00\",\"2024-02-29T08:00\",\"2024-02-29T09:00\",\"2024-02-29T10:00\",\"2024-02-29T11:00\",\"2024-02-29T12:00\",\"2024-02-29T13:00\",\"2024-02-29T14:00\",\"2024-02-29T15:00\",\"2024-02-29T16:00\",\"2024-02-29T17:00\",\"2024-02-29T18:00\",\"2024-02-29T19:00\",\"2024-02-29T20:00\",\"2024-02-29T21:00\",\"2024-02-29T22:00\",\"2024-02-29T23:00\",\"2024-03-01T00:00\",\"2024-03-01T01:00\",\"2024-03-01T02:00\",\"2024-03-01T03:00\",\"2024-03-01T04:00\",\"2024-03-01T05:00\",\"2024-03-01T06:00\",\"2024-03-01T07:00\",\"2024-03-01T08:00\",\"2024-03-01T09:00\",\"2024-03-01T10:00\",\"2024-03-01T11:00\",\"2024-03-01T12:00\",\"2024-03-01T13:00\",\"2024-03-01T14:00\",\"2024-03-01T15:00\",\"2024-03-01T16:00\",\"2024-03-01T17:00\",\"2024-03-01T18:00\",\"2024-03-01T19:00\",\"2024-03-01T20:00\",\"2024-03-01T21:00\",\"2024-03-01T22:00\",\"2024-03-01T23:00\",\"2024-03-02T00:00\",\"2024-03-02T01:00\",\"2024-03-02T02:00\",\"2024-03-02T03:00\",\"2024-03-02T04:00\",\"2024-03-02T05:00\",\"2024-03-02T06:00\",\"2024-03-02T07:00\",\"2024-03-02T08:00\",\"2024-03-02T09:00\",\"2024-03-02T10:00\",\"2024-03-02T11:00\",\"2024-03-02T12:00\",\"2024-03-02T13:00\",\"2024-03-02T14:00\",\"2024-03-02T15:00\",\"2024-03-02T16:00\",\"2024-03-02T17:00\",\"2024-03-02T18:00\",\"2024-03-02T19:00\",\"2024-03-02T20:00\",\"2024-03-02T21:00\",\"2024-03-02T22:00\",\"2024-03-02T23:00\",\"2024-03-03T00:00\",\"2024-03-03T01:00\",\"2024-03-03T02:00\",\"2024-03-03T03:00\",\"2024-03-03T04:00\",\"2024-03-03T05:00\",\"2024-03-03T06:00\",\"2024-03-03T07:00\",\"2024-03-03T08:00\",\"2024-03-03T09:00\",\"2024-03-03T10:00\",\"2024-03-03T11:00\",\"2024-03-03T12:00\",\"2024-03-03T13:00\",\"2024-03-03T14:00\",\"2024-03-03T15:00\",\"2024-03-03T16:00\",\"2024-03-03T17:00\",\"2024-03-03T18:00\",\"2024-03-03T19:00\",\"2024-03-03T20:00\",\"2024-03-03T21:00\",\"2024-03-03T22:00\",\"2024-03-03T23:00\",\"2024-03-04T00:00\",\"2024-03-04T01:00\",\"2024-03-04T02:00\",\"2024-03-04T03:00\",\"2024-03-04T04:00\",\"2024-03-04T05:00\",\"2024-03-04T06:00\",\"2024-03-04T07:00\",\"2024-03-04T08:00\",\"2024-03-04T09:00\",\"2024-03-04T10:00\",\"2024-03-04T11:00\",\"2024-03-04T12:00\",\"2024-03-04T13:00\",\"2024-03-04T14:00\",\"2024-03-04T15:00\",\"2024-03-04T16:00\",\"2024-03-04T17:00\",\"2024-03-04T18:00\",\"2024-03-04T19:00\",\"2024-03-04T20:00\",\"2024-03-04T21:00\",\"2024-03-04T22:00\",\"2024-03-04T23:00\",\"2024-03-05T00:00\",\"2024-03-05T01:00\",\"2024-03-05T02:00\",\"2024-03-05T03:00\",\"2024-03-05T04:00\",\"2024-03-05T05:00\",\"2024-03-05T06:00\",\"2024-03-05T07:00\",\"2024-03-05T08:00\",\"2024-03-05T09:00\",\"2024-03-05T10:00\",\"2024-03-05T11:00\",\"2024-03-05T12:00\",\"2024-03-05T13:00\",\"2024-03-05T14:00\",\"2024-03-05T15:00\",\"2024-03-05T16:00\",\"2024-03-05T17:00\",\"2024-03-05T18:00\",\"2024-03-05T19:00\",\"2024-03-05T20:00\",\"2024-03-05T21:00\",\"2024-03-05T22:00\",\"2024-03-05T23:00\"],\"temperature_2m\":[40.9,41.4,41.4,41.3,41.6,40.6,40.2,40.0,40.0,40.4,40.6,41.9,43.4,43.0,43.5,43.9,43.5,43.5,43.0,42.1,41.5,40.8,40.7,40.4,39.9,39.5,39.6,39.7,39.8,39.8,39.6,39.5,39.9,40.8,42.9,45.8,48.4,50.1,51.4,52.0,51.9,51.2,49.6,47.1,45.3,43.8,42.5,41.5,40.2,38.4,37.9,38.1,37.6,37.5,38.4,39.0,40.1,42.7,45.5,47.6,49.5,51.3,46.3,45.8,45.0,44.5,43.8,43.1,42.5,41.8,41.4,40.9,40.4,40.2,40.2,40.4,40.5,40.3,40.1,39.7,40.1,41.8,44.8,47.5,49.5,50.8,52.2,52.7,52.8,51.9,49.1,46.7,45.5,44.7,44.0,43.4,42.8,42.6,42.7,42.9,43.1,42.7,42.3,42.8,45.0,48.1,51.2,54.4,57.8,60.0,60.7,60.5,59.4,57.2,54.4,51.6,49.3,47.3,45.4,43.7,42.2,41.0,40.3,40.0,39.8,39.5,39.2,39.2,39.5,40.0,40.7,42.0,43.6,44.7,50.8,50.5,49.7,48.7,47.3,46.1,45.3,44.7,44.3,44.1,44.0,43.9,43.7,43.4,43.3,43.2,43.1,42.8,42.2,41.5,41.0,41.2,41.6,42.1,42.5,42.9,43.1,42.9,42.5,42.2,41.9,41.6,41.5,41.4]}}\u001b[0m\n",
      "\n",
      "\u001b[1m> Finished chain.\u001b[0m\n"
     ]
    },
    {
     "data": {
      "text/plain": [
       "{'question': 'What is the weather like right now in Munich, Germany in degrees Fahrenheit?',\n",
       " 'output': ' The current temperature in Munich, Germany is 43.5 degrees Fahrenheit. This information was obtained from the API url: https://api.open-meteo.com/v1/forecast?latitude=48.1351&longitude=11.5820&hourly=temperature_2m&current_weather=true&temperature_unit=fahrenheit&timezone=auto.'}"
      ]
     },
     "execution_count": 11,
     "metadata": {},
     "output_type": "execute_result"
    }
   ],
   "source": [
    "chain = APIChain.from_llm_and_api_docs(\n",
    "    llm,\n",
    "    open_meteo_docs.OPEN_METEO_DOCS,\n",
    "    verbose=True,\n",
    "    limit_to_domains=[\"https://api.open-meteo.com/\"],\n",
    ")\n",
    "chain.invoke(\n",
    "    \"What is the weather like right now in Munich, Germany in degrees Fahrenheit?\"\n",
    ")"
   ]
  },
  {
   "cell_type": "code",
   "execution_count": null,
   "metadata": {},
   "outputs": [],
   "source": []
  },
  {
   "cell_type": "markdown",
   "metadata": {},
   "source": []
  }
 ],
 "metadata": {
  "kernelspec": {
   "display_name": "llm",
   "language": "python",
   "name": "python3"
  },
  "language_info": {
   "codemirror_mode": {
    "name": "ipython",
    "version": 3
   },
   "file_extension": ".py",
   "mimetype": "text/x-python",
   "name": "python",
   "nbconvert_exporter": "python",
   "pygments_lexer": "ipython3",
   "version": "3.10.13"
  }
 },
 "nbformat": 4,
 "nbformat_minor": 2
}
