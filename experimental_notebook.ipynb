{
 "cells": [
  {
   "cell_type": "code",
   "execution_count": 1,
   "metadata": {},
   "outputs": [
    {
     "data": {
      "text/plain": [
       "True"
      ]
     },
     "execution_count": 1,
     "metadata": {},
     "output_type": "execute_result"
    }
   ],
   "source": [
    "# Load environment variables from the .env file\n",
    "from dotenv import load_dotenv\n",
    "load_dotenv()"
   ]
  },
  {
   "cell_type": "code",
   "execution_count": 2,
   "metadata": {},
   "outputs": [],
   "source": [
    "from langchain_community.llms import Ollama\n",
    "from langchain_openai import OpenAI\n",
    "\n",
    "from langchain.tools import tool\n",
    "from langchain import hub\n",
    "from langchain.prompts import load_prompt\n",
    "\n",
    "from langchain.agents import AgentExecutor, create_react_agent\n",
    "\n",
    "from langchain.chains import APIChain\n",
    "from langchain.chains.api import open_meteo_docs\n"
   ]
  },
  {
   "cell_type": "code",
   "execution_count": 14,
   "metadata": {},
   "outputs": [],
   "source": [
    "# Switch to use openAI\n",
    "#llm = OpenAI(temperature=0, verbose=True, model=\"gpt-3.5-turbo-instruct\") # defautl model : \"gpt-3.5-turbo-instruct\"\n",
    "llm = Ollama(model=\"mistral\")"
   ]
  },
  {
   "cell_type": "code",
   "execution_count": 15,
   "metadata": {},
   "outputs": [],
   "source": [
    "# custom simple tool\n",
    "@tool\n",
    "def square(x: int) -> int:\n",
    "    \"\"\"\n",
    "    squares a number\n",
    "    \"\"\"\n",
    "    return int(x)**2"
   ]
  },
  {
   "cell_type": "code",
   "execution_count": 5,
   "metadata": {},
   "outputs": [
    {
     "name": "stdout",
     "output_type": "stream",
     "text": [
      "square\n",
      "square(x: int) -> int - squares a number\n",
      "{'x': {'title': 'X', 'type': 'integer'}}\n"
     ]
    }
   ],
   "source": [
    "# tool features\n",
    "print(square.name)\n",
    "print(square.description)\n",
    "print(square.args)"
   ]
  },
  {
   "cell_type": "code",
   "execution_count": 6,
   "metadata": {},
   "outputs": [],
   "source": [
    "# pull prompt from the hub and saves it \n",
    "obj = hub.pull(\"hwchase17/react\")\n",
    "obj.save(\"prompt.json\")"
   ]
  },
  {
   "cell_type": "code",
   "execution_count": 16,
   "metadata": {},
   "outputs": [],
   "source": [
    "# inititalize prompt and tools for custom agent\n",
    "prompt = load_prompt('prompt.json')\n",
    "tools = [\n",
    "    square\n",
    "    ]"
   ]
  },
  {
   "cell_type": "code",
   "execution_count": 8,
   "metadata": {},
   "outputs": [
    {
     "name": "stdout",
     "output_type": "stream",
     "text": [
      "Answer the following questions as best you can. You have access to the following tools:\n",
      "\n",
      "{tools}\n",
      "\n",
      "Use the following format:\n",
      "\n",
      "Question: the input question you must answer\n",
      "Thought: you should always think about what to do\n",
      "Action: the action to take, should be one of [{tool_names}]\n",
      "Action Input: the input to the action\n",
      "Observation: the result of the action\n",
      "... (this Thought/Action/Action Input/Observation can repeat N times)\n",
      "Thought: I now know the final answer\n",
      "Final Answer: the final answer to the original input question\n",
      "\n",
      "Begin!\n",
      "\n",
      "Question: {input}\n",
      "Thought:{agent_scratchpad}\n"
     ]
    }
   ],
   "source": [
    "# the prompt template\n",
    "print(prompt.template)"
   ]
  },
  {
   "cell_type": "code",
   "execution_count": 17,
   "metadata": {},
   "outputs": [],
   "source": [
    "agent_custom = create_react_agent(\n",
    "     llm,\n",
    "     tools,\n",
    "    prompt\n",
    "    )\n",
    "\n",
    "agent_executor = AgentExecutor(agent=agent_custom, tools=tools, verbose=True)"
   ]
  },
  {
   "cell_type": "code",
   "execution_count": 18,
   "metadata": {},
   "outputs": [
    {
     "name": "stdout",
     "output_type": "stream",
     "text": [
      "\n",
      "\n",
      "\u001b[1m> Entering new AgentExecutor chain...\u001b[0m\n",
      "\u001b[32;1m\u001b[1;3m I need to find the square of the number 5.\n",
      "Action: square\n",
      "Action Input: 5\u001b[0m\u001b[36;1m\u001b[1;3m25\u001b[0m\u001b[32;1m\u001b[1;3m The observation tells me that the square of 5 is 25.\n",
      "Final Answer: The square of 5 is 25.\u001b[0m\n",
      "\n",
      "\u001b[1m> Finished chain.\u001b[0m\n"
     ]
    },
    {
     "data": {
      "text/plain": [
       "{'input': 'What is the square of 5 ', 'output': 'The square of 5 is 25.'}"
      ]
     },
     "execution_count": 18,
     "metadata": {},
     "output_type": "execute_result"
    }
   ],
   "source": [
    "agent_executor.invoke({\"input\":\"What is the square of 5 \"})"
   ]
  },
  {
   "cell_type": "code",
   "execution_count": 22,
   "metadata": {},
   "outputs": [
    {
     "data": {
      "text/plain": [
       "'BASE URL: https://api.open-meteo.com/\\n\\nAPI Documentation\\nThe API endpoint /v1/forecast accepts a geographical coordinate, a list of weather variables and responds with a JSON hourly weather forecast for 7 days. Time always starts at 0:00 today and contains 168 hours. All URL parameters are listed below:\\n\\nParameter\\tFormat\\tRequired\\tDefault\\tDescription\\nlatitude, longitude\\tFloating point\\tYes\\t\\tGeographical WGS84 coordinate of the location\\nhourly\\tString array\\tNo\\t\\tA list of weather variables which should be returned. Values can be comma separated, or multiple &hourly= parameter in the URL can be used.\\ndaily\\tString array\\tNo\\t\\tA list of daily weather variable aggregations which should be returned. Values can be comma separated, or multiple &daily= parameter in the URL can be used. If daily weather variables are specified, parameter timezone is required.\\ncurrent_weather\\tBool\\tNo\\tfalse\\tInclude current weather conditions in the JSON output.\\ntemperature_unit\\tString\\tNo\\tcelsius\\tIf fahrenheit is set, all temperature values are converted to Fahrenheit.\\nwindspeed_unit\\tString\\tNo\\tkmh\\tOther wind speed speed units: ms, mph and kn\\nprecipitation_unit\\tString\\tNo\\tmm\\tOther precipitation amount units: inch\\ntimeformat\\tString\\tNo\\tiso8601\\tIf format unixtime is selected, all time values are returned in UNIX epoch time in seconds. Please note that all timestamp are in GMT+0! For daily values with unix timestamps, please apply utc_offset_seconds again to get the correct date.\\ntimezone\\tString\\tNo\\tGMT\\tIf timezone is set, all timestamps are returned as local-time and data is returned starting at 00:00 local-time. Any time zone name from the time zone database is supported. If auto is set as a time zone, the coordinates will be automatically resolved to the local time zone.\\npast_days\\tInteger (0-2)\\tNo\\t0\\tIf past_days is set, yesterday or the day before yesterday data are also returned.\\nstart_date\\nend_date\\tString (yyyy-mm-dd)\\tNo\\t\\tThe time interval to get weather data. A day must be specified as an ISO8601 date (e.g. 2022-06-30).\\nmodels\\tString array\\tNo\\tauto\\tManually select one or more weather models. Per default, the best suitable weather models will be combined.\\n\\nHourly Parameter Definition\\nThe parameter &hourly= accepts the following values. Most weather variables are given as an instantaneous value for the indicated hour. Some variables like precipitation are calculated from the preceding hour as an average or sum.\\n\\nVariable\\tValid time\\tUnit\\tDescription\\ntemperature_2m\\tInstant\\t°C (°F)\\tAir temperature at 2 meters above ground\\nsnowfall\\tPreceding hour sum\\tcm (inch)\\tSnowfall amount of the preceding hour in centimeters. For the water equivalent in millimeter, divide by 7. E.g. 7 cm snow = 10 mm precipitation water equivalent\\nrain\\tPreceding hour sum\\tmm (inch)\\tRain from large scale weather systems of the preceding hour in millimeter\\nshowers\\tPreceding hour sum\\tmm (inch)\\tShowers from convective precipitation in millimeters from the preceding hour\\nweathercode\\tInstant\\tWMO code\\tWeather condition as a numeric code. Follow WMO weather interpretation codes. See table below for details.\\nsnow_depth\\tInstant\\tmeters\\tSnow depth on the ground\\nfreezinglevel_height\\tInstant\\tmeters\\tAltitude above sea level of the 0°C level\\nvisibility\\tInstant\\tmeters\\tViewing distance in meters. Influenced by low clouds, humidity and aerosols. Maximum visibility is approximately 24 km.'"
      ]
     },
     "execution_count": 22,
     "metadata": {},
     "output_type": "execute_result"
    }
   ],
   "source": [
    "open_meteo_docs.OPEN_METEO_DOCS"
   ]
  },
  {
   "cell_type": "code",
   "execution_count": 20,
   "metadata": {},
   "outputs": [],
   "source": [
    "chain = APIChain.from_llm_and_api_docs(\n",
    "    llm,\n",
    "    open_meteo_docs.OPEN_METEO_DOCS,\n",
    "    verbose=True,\n",
    "    limit_to_domains=[\"https://api.open-meteo.com/\"],\n",
    ")"
   ]
  },
  {
   "cell_type": "code",
   "execution_count": 21,
   "metadata": {},
   "outputs": [
    {
     "name": "stdout",
     "output_type": "stream",
     "text": [
      "\n",
      "\n",
      "\u001b[1m> Entering new APIChain chain...\u001b[0m\n",
      "\u001b[32;1m\u001b[1;3m Based on the user question and the given API documentation, the following API URL can be generated to get the current temperature in Fahrenheit for Munich, Germany:\n",
      "\n",
      "`https://api.open-meteo.com/v1/forecast?latitude=48.1352&longitude=11.5761&temperature_unit=fahrenheit&current_weather=true`\n",
      "\n",
      "This API call requests the hourly weather forecast for Munich with a geographical coordinate (latitude and longitude) set to its actual value, the temperature unit set to Fahrenheit (fahrenheit), and the current weather data included in the JSON output (current\\_weather=true). By including only these necessary parameters, we can get a response that is as short as possible while still answering the user question.\u001b[0m\n"
     ]
    },
    {
     "ename": "ValueError",
     "evalue": "Based on the user question and the given API documentation, the following API URL can be generated to get the current temperature in Fahrenheit for Munich, Germany:\n\n`https://api.open-meteo.com/v1/forecast?latitude=48.1352&longitude=11.5761&temperature_unit=fahrenheit&current_weather=true`\n\nThis API call requests the hourly weather forecast for Munich with a geographical coordinate (latitude and longitude) set to its actual value, the temperature unit set to Fahrenheit (fahrenheit), and the current weather data included in the JSON output (current\\_weather=true). By including only these necessary parameters, we can get a response that is as short as possible while still answering the user question. is not in the allowed domains: ['https://api.open-meteo.com/']",
     "output_type": "error",
     "traceback": [
      "\u001b[0;31m---------------------------------------------------------------------------\u001b[0m",
      "\u001b[0;31mValueError\u001b[0m                                Traceback (most recent call last)",
      "Cell \u001b[0;32mIn[21], line 1\u001b[0m\n\u001b[0;32m----> 1\u001b[0m \u001b[43mchain\u001b[49m\u001b[38;5;241;43m.\u001b[39;49m\u001b[43minvoke\u001b[49m\u001b[43m(\u001b[49m\n\u001b[1;32m      2\u001b[0m \u001b[43m    \u001b[49m\u001b[38;5;124;43m\"\u001b[39;49m\u001b[38;5;124;43mWhat is the weather like right now in Munich, Germany in degrees Fahrenheit?\u001b[39;49m\u001b[38;5;124;43m\"\u001b[39;49m\n\u001b[1;32m      3\u001b[0m \u001b[43m)\u001b[49m\n",
      "File \u001b[0;32m/Applications/miniconda3/envs/llm/lib/python3.10/site-packages/langchain/chains/base.py:163\u001b[0m, in \u001b[0;36mChain.invoke\u001b[0;34m(self, input, config, **kwargs)\u001b[0m\n\u001b[1;32m    161\u001b[0m \u001b[38;5;28;01mexcept\u001b[39;00m \u001b[38;5;167;01mBaseException\u001b[39;00m \u001b[38;5;28;01mas\u001b[39;00m e:\n\u001b[1;32m    162\u001b[0m     run_manager\u001b[38;5;241m.\u001b[39mon_chain_error(e)\n\u001b[0;32m--> 163\u001b[0m     \u001b[38;5;28;01mraise\u001b[39;00m e\n\u001b[1;32m    164\u001b[0m run_manager\u001b[38;5;241m.\u001b[39mon_chain_end(outputs)\n\u001b[1;32m    166\u001b[0m \u001b[38;5;28;01mif\u001b[39;00m include_run_info:\n",
      "File \u001b[0;32m/Applications/miniconda3/envs/llm/lib/python3.10/site-packages/langchain/chains/base.py:153\u001b[0m, in \u001b[0;36mChain.invoke\u001b[0;34m(self, input, config, **kwargs)\u001b[0m\n\u001b[1;32m    150\u001b[0m \u001b[38;5;28;01mtry\u001b[39;00m:\n\u001b[1;32m    151\u001b[0m     \u001b[38;5;28mself\u001b[39m\u001b[38;5;241m.\u001b[39m_validate_inputs(inputs)\n\u001b[1;32m    152\u001b[0m     outputs \u001b[38;5;241m=\u001b[39m (\n\u001b[0;32m--> 153\u001b[0m         \u001b[38;5;28;43mself\u001b[39;49m\u001b[38;5;241;43m.\u001b[39;49m\u001b[43m_call\u001b[49m\u001b[43m(\u001b[49m\u001b[43minputs\u001b[49m\u001b[43m,\u001b[49m\u001b[43m \u001b[49m\u001b[43mrun_manager\u001b[49m\u001b[38;5;241;43m=\u001b[39;49m\u001b[43mrun_manager\u001b[49m\u001b[43m)\u001b[49m\n\u001b[1;32m    154\u001b[0m         \u001b[38;5;28;01mif\u001b[39;00m new_arg_supported\n\u001b[1;32m    155\u001b[0m         \u001b[38;5;28;01melse\u001b[39;00m \u001b[38;5;28mself\u001b[39m\u001b[38;5;241m.\u001b[39m_call(inputs)\n\u001b[1;32m    156\u001b[0m     )\n\u001b[1;32m    158\u001b[0m     final_outputs: Dict[\u001b[38;5;28mstr\u001b[39m, Any] \u001b[38;5;241m=\u001b[39m \u001b[38;5;28mself\u001b[39m\u001b[38;5;241m.\u001b[39mprep_outputs(\n\u001b[1;32m    159\u001b[0m         inputs, outputs, return_only_outputs\n\u001b[1;32m    160\u001b[0m     )\n\u001b[1;32m    161\u001b[0m \u001b[38;5;28;01mexcept\u001b[39;00m \u001b[38;5;167;01mBaseException\u001b[39;00m \u001b[38;5;28;01mas\u001b[39;00m e:\n",
      "File \u001b[0;32m/Applications/miniconda3/envs/llm/lib/python3.10/site-packages/langchain/chains/api/base.py:161\u001b[0m, in \u001b[0;36mAPIChain._call\u001b[0;34m(self, inputs, run_manager)\u001b[0m\n\u001b[1;32m    157\u001b[0m api_url \u001b[38;5;241m=\u001b[39m api_url\u001b[38;5;241m.\u001b[39mstrip()\n\u001b[1;32m    158\u001b[0m \u001b[38;5;28;01mif\u001b[39;00m \u001b[38;5;28mself\u001b[39m\u001b[38;5;241m.\u001b[39mlimit_to_domains \u001b[38;5;129;01mand\u001b[39;00m \u001b[38;5;129;01mnot\u001b[39;00m _check_in_allowed_domain(\n\u001b[1;32m    159\u001b[0m     api_url, \u001b[38;5;28mself\u001b[39m\u001b[38;5;241m.\u001b[39mlimit_to_domains\n\u001b[1;32m    160\u001b[0m ):\n\u001b[0;32m--> 161\u001b[0m     \u001b[38;5;28;01mraise\u001b[39;00m \u001b[38;5;167;01mValueError\u001b[39;00m(\n\u001b[1;32m    162\u001b[0m         \u001b[38;5;124mf\u001b[39m\u001b[38;5;124m\"\u001b[39m\u001b[38;5;132;01m{\u001b[39;00mapi_url\u001b[38;5;132;01m}\u001b[39;00m\u001b[38;5;124m is not in the allowed domains: \u001b[39m\u001b[38;5;132;01m{\u001b[39;00m\u001b[38;5;28mself\u001b[39m\u001b[38;5;241m.\u001b[39mlimit_to_domains\u001b[38;5;132;01m}\u001b[39;00m\u001b[38;5;124m\"\u001b[39m\n\u001b[1;32m    163\u001b[0m     )\n\u001b[1;32m    164\u001b[0m api_response \u001b[38;5;241m=\u001b[39m \u001b[38;5;28mself\u001b[39m\u001b[38;5;241m.\u001b[39mrequests_wrapper\u001b[38;5;241m.\u001b[39mget(api_url)\n\u001b[1;32m    165\u001b[0m _run_manager\u001b[38;5;241m.\u001b[39mon_text(\n\u001b[1;32m    166\u001b[0m     \u001b[38;5;28mstr\u001b[39m(api_response), color\u001b[38;5;241m=\u001b[39m\u001b[38;5;124m\"\u001b[39m\u001b[38;5;124myellow\u001b[39m\u001b[38;5;124m\"\u001b[39m, end\u001b[38;5;241m=\u001b[39m\u001b[38;5;124m\"\u001b[39m\u001b[38;5;130;01m\\n\u001b[39;00m\u001b[38;5;124m\"\u001b[39m, verbose\u001b[38;5;241m=\u001b[39m\u001b[38;5;28mself\u001b[39m\u001b[38;5;241m.\u001b[39mverbose\n\u001b[1;32m    167\u001b[0m )\n",
      "\u001b[0;31mValueError\u001b[0m: Based on the user question and the given API documentation, the following API URL can be generated to get the current temperature in Fahrenheit for Munich, Germany:\n\n`https://api.open-meteo.com/v1/forecast?latitude=48.1352&longitude=11.5761&temperature_unit=fahrenheit&current_weather=true`\n\nThis API call requests the hourly weather forecast for Munich with a geographical coordinate (latitude and longitude) set to its actual value, the temperature unit set to Fahrenheit (fahrenheit), and the current weather data included in the JSON output (current\\_weather=true). By including only these necessary parameters, we can get a response that is as short as possible while still answering the user question. is not in the allowed domains: ['https://api.open-meteo.com/']"
     ]
    }
   ],
   "source": [
    "chain.invoke(\n",
    "    \"What is the weather like right now in Munich, Germany in degrees Fahrenheit?\"\n",
    ")"
   ]
  },
  {
   "cell_type": "code",
   "execution_count": 13,
   "metadata": {},
   "outputs": [
    {
     "name": "stdout",
     "output_type": "stream",
     "text": [
      "\n",
      "\n",
      "\u001b[1m> Entering new APIChain chain...\u001b[0m\n",
      "\u001b[32;1m\u001b[1;3m https://api.open-meteo.com/v1/forecast?latitude=48.1351&longitude=11.5820&hourly=temperature_2m&daily=temperature_2m&timezone=Europe/Berlin&start_date=2022-06-30&end_date=2022-07-06&temperature_unit=celsius\u001b[0m\n",
      "\u001b[33;1m\u001b[1;3m{\"reason\":\"Data corrupted at path ''. Cannot initialize ForecastVariableDaily from invalid String value temperature_2m.\",\"error\":true}\u001b[0m\n",
      "\n",
      "\u001b[1m> Finished chain.\u001b[0m\n"
     ]
    },
    {
     "data": {
      "text/plain": [
       "{'question': 'What is the weather last week  in Munich, Germany in degrees Celcius?',\n",
       " 'output': ' The API call was not successful due to a data corruption issue with the temperature_2m variable. The requested information about the weather in Munich, Germany last week in degrees Celsius could not be retrieved.'}"
      ]
     },
     "execution_count": 13,
     "metadata": {},
     "output_type": "execute_result"
    }
   ],
   "source": [
    "chain.invoke(\n",
    "    \"What is the weather last week  in Munich, Germany in degrees Celcius?\"\n",
    ")"
   ]
  },
  {
   "cell_type": "markdown",
   "metadata": {},
   "source": []
  }
 ],
 "metadata": {
  "kernelspec": {
   "display_name": "llm",
   "language": "python",
   "name": "python3"
  },
  "language_info": {
   "codemirror_mode": {
    "name": "ipython",
    "version": 3
   },
   "file_extension": ".py",
   "mimetype": "text/x-python",
   "name": "python",
   "nbconvert_exporter": "python",
   "pygments_lexer": "ipython3",
   "version": "3.10.13"
  }
 },
 "nbformat": 4,
 "nbformat_minor": 2
}
