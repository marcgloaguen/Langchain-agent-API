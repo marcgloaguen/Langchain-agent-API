{
 "cells": [
  {
   "cell_type": "code",
   "execution_count": 1,
   "metadata": {},
   "outputs": [
    {
     "data": {
      "text/plain": [
       "True"
      ]
     },
     "execution_count": 1,
     "metadata": {},
     "output_type": "execute_result"
    }
   ],
   "source": [
    "# Load environment variables from the .env file\n",
    "from dotenv import load_dotenv\n",
    "load_dotenv()"
   ]
  },
  {
   "cell_type": "code",
   "execution_count": 2,
   "metadata": {},
   "outputs": [],
   "source": [
    "from langchain_community.llms import Ollama\n",
    "from langchain import hub\n",
    "from langchain_openai import OpenAI\n",
    "from langchain.agents import AgentExecutor, create_react_agent\n",
    "from langchain.tools import tool"
   ]
  },
  {
   "cell_type": "code",
   "execution_count": 3,
   "metadata": {},
   "outputs": [],
   "source": [
    "# custom simple tool\n",
    "@tool\n",
    "def square(x: int) -> int:\n",
    "    \"\"\"\n",
    "    squares a number\n",
    "    \"\"\"\n",
    "    return int(x)**2"
   ]
  },
  {
   "cell_type": "code",
   "execution_count": 4,
   "metadata": {},
   "outputs": [
    {
     "name": "stdout",
     "output_type": "stream",
     "text": [
      "square\n",
      "square(x: int) -> int - squares a number\n",
      "{'x': {'title': 'X', 'type': 'integer'}}\n"
     ]
    }
   ],
   "source": [
    "# tool features\n",
    "print(square.name)\n",
    "print(square.description)\n",
    "print(square.args)"
   ]
  },
  {
   "cell_type": "code",
   "execution_count": 5,
   "metadata": {},
   "outputs": [],
   "source": [
    "# Switch to use openAI\n",
    "#llm = OpenAI(temperature=0, verbose=True, model=\"gpt-3.5-turbo-instruct\") # defautl model : \"gpt-3.5-turbo-instruct\"\n",
    "llm = Ollama(model=\"mistral\")"
   ]
  },
  {
   "cell_type": "code",
   "execution_count": 6,
   "metadata": {},
   "outputs": [],
   "source": [
    "prompt = hub.pull(\"hwchase17/react\")\n",
    "prompt.save('prompt.json')\n",
    "tools = [\n",
    "    square\n",
    "    ]\n",
    "\n",
    "agent_custom = create_react_agent(\n",
    "     llm,\n",
    "     tools,\n",
    "    prompt\n",
    "    )\n",
    "\n",
    "agent_executor = AgentExecutor(agent=agent_custom, tools=tools, verbose=True)"
   ]
  },
  {
   "cell_type": "code",
   "execution_count": 9,
   "metadata": {},
   "outputs": [
    {
     "name": "stdout",
     "output_type": "stream",
     "text": [
      "\n",
      "\n",
      "\u001b[1m> Entering new AgentExecutor chain...\u001b[0m\n",
      "\u001b[32;1m\u001b[1;3m I need to find the square of a given number. The number in this case is 5.\n",
      "Action: square\n",
      "Action Input: 5\u001b[0m\u001b[36;1m\u001b[1;3m25\u001b[0m\u001b[32;1m\u001b[1;3m The observation tells me that the square of 5 is 25.\n",
      "Final Answer: 25 (The square of 5)\u001b[0m\n",
      "\n",
      "\u001b[1m> Finished chain.\u001b[0m\n"
     ]
    },
    {
     "data": {
      "text/plain": [
       "{'input': 'square of 5', 'output': '25 (The square of 5)'}"
      ]
     },
     "execution_count": 9,
     "metadata": {},
     "output_type": "execute_result"
    }
   ],
   "source": [
    "prompt = {'input':\"square of 5\"}\n",
    "\n",
    "agent_executor.invoke(input=prompt)"
   ]
  },
  {
   "cell_type": "code",
   "execution_count": null,
   "metadata": {},
   "outputs": [],
   "source": []
  }
 ],
 "metadata": {
  "kernelspec": {
   "display_name": "llm",
   "language": "python",
   "name": "python3"
  },
  "language_info": {
   "codemirror_mode": {
    "name": "ipython",
    "version": 3
   },
   "file_extension": ".py",
   "mimetype": "text/x-python",
   "name": "python",
   "nbconvert_exporter": "python",
   "pygments_lexer": "ipython3",
   "version": "3.10.13"
  }
 },
 "nbformat": 4,
 "nbformat_minor": 2
}
